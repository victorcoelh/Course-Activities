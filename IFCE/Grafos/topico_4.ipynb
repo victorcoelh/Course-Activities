{
 "cells": [
  {
   "cell_type": "markdown",
   "metadata": {},
   "source": [
    "# Algoritmo para a detecção do número cromático de um grafo\n",
    "\n",
    "### O Algoritmo\n",
    "\n",
    "Como não há um algoritmo eficiente para a coloração de grafos, e é difícil encontrar\\\n",
    "um ótimo na literatura, utilizamos um algoritmo guloso, que garante uma resolução razoável.\\\n",
    "O algoritmo é executado com múltiplos parâmetros para tentar achar uma solução ótima."
   ]
  },
  {
   "cell_type": "code",
   "execution_count": null,
   "metadata": {},
   "outputs": [],
   "source": []
  },
  {
   "cell_type": "code",
   "execution_count": null,
   "metadata": {},
   "outputs": [],
   "source": [
    "def quick_find():\n",
    "    "
   ]
  }
 ],
 "metadata": {
  "kernelspec": {
   "display_name": ".venv",
   "language": "python",
   "name": "python3"
  },
  "language_info": {
   "codemirror_mode": {
    "name": "ipython",
    "version": 3
   },
   "file_extension": ".py",
   "mimetype": "text/x-python",
   "name": "python",
   "nbconvert_exporter": "python",
   "pygments_lexer": "ipython3",
   "version": "3.11.4"
  }
 },
 "nbformat": 4,
 "nbformat_minor": 2
}
